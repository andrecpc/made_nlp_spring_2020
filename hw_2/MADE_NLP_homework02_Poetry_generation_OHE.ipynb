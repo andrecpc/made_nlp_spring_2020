{
  "nbformat": 4,
  "nbformat_minor": 0,
  "metadata": {
    "anaconda-cloud": {},
    "kernelspec": {
      "display_name": "Python 3",
      "language": "python",
      "name": "python3"
    },
    "language_info": {
      "codemirror_mode": {
        "name": "ipython",
        "version": 3
      },
      "file_extension": ".py",
      "mimetype": "text/x-python",
      "name": "python",
      "nbconvert_exporter": "python",
      "pygments_lexer": "ipython3",
      "version": "3.6.4"
    },
    "colab": {
      "name": "MADE_NLP_homework02_Poetry_generation_OHE_Педченко Андрей.ipynb",
      "provenance": [],
      "collapsed_sections": []
    }
  },
  "cells": [
    {
      "cell_type": "markdown",
      "metadata": {
        "id": "jcFqRZptNUYo"
      },
      "source": [
        "## Homework №2"
      ]
    },
    {
      "cell_type": "markdown",
      "metadata": {
        "id": "FXFwtdWCNUYq"
      },
      "source": [
        "### Almost Shakespeare\n",
        "\n",
        "Let's try to generate some Shakespeare poetry using RNNs. The sonnets file is available in the notebook directory.\n",
        "\n",
        "Text generation can be designed in several steps:\n",
        "    \n",
        "1. Data loading.\n",
        "2. Dictionary generation.\n",
        "3. Data preprocessing.\n",
        "4. Model (neural network) training.\n",
        "5. Text generation (model evaluation).\n"
      ]
    },
    {
      "cell_type": "markdown",
      "metadata": {
        "id": "pe6K6HfGNUYr"
      },
      "source": [
        "### Data loading"
      ]
    },
    {
      "cell_type": "markdown",
      "metadata": {
        "id": "gxTROhaINUYt"
      },
      "source": [
        "Shakespeare sonnets are awailable at this [link](http://www.gutenberg.org/ebooks/1041?msg=welcome_stranger). In addition, they are stored in the same directory as this notebook (`sonnetes.txt`).\n",
        "\n",
        "Simple preprocessing is already done for you in the next cell: all technical info is dropped."
      ]
    },
    {
      "cell_type": "code",
      "metadata": {
        "id": "hAKAGL7lNUYu"
      },
      "source": [
        "import string\n",
        "import numpy as np"
      ],
      "execution_count": null,
      "outputs": []
    },
    {
      "cell_type": "code",
      "metadata": {
        "id": "wKrlgrgSNUY0",
        "colab": {
          "base_uri": "https://localhost:8080/",
          "height": 50
        },
        "outputId": "a9ad46fd-25df-4735-f29a-b88f0c945f0d"
      },
      "source": [
        "try:\n",
        "    with open('../../datasets/Shakespeare_sonnets/sonnets.txt', 'r') as iofile:\n",
        "        text = iofile.readlines()\n",
        "except FileNotFoundError:\n",
        "    !wget https://raw.githubusercontent.com/neychev/made_nlp_course/master/datasets/Shakespeare_sonnets/sonnets.txt -nc\n",
        "    with open('sonnets.txt', 'r') as iofile:\n",
        "        text = iofile.readlines()"
      ],
      "execution_count": null,
      "outputs": [
        {
          "output_type": "stream",
          "text": [
            "File ‘sonnets.txt’ already there; not retrieving.\n",
            "\n"
          ],
          "name": "stdout"
        }
      ]
    },
    {
      "cell_type": "code",
      "metadata": {
        "id": "CHzjkk9SNUY6"
      },
      "source": [
        "TEXT_START = 45\n",
        "TEXT_END = -368\n",
        "text = text[TEXT_START : TEXT_END]\n",
        "text2 = text[TEXT_START : TEXT_END]\n",
        "assert len(text) == 2616"
      ],
      "execution_count": null,
      "outputs": []
    },
    {
      "cell_type": "code",
      "metadata": {
        "id": "dzCqQfFcJ6PV",
        "colab": {
          "base_uri": "https://localhost:8080/",
          "height": 252
        },
        "outputId": "25c90c10-8fe2-4c21-8ca1-209699479d3a"
      },
      "source": [
        "text[::200]"
      ],
      "execution_count": null,
      "outputs": [
        {
          "output_type": "execute_result",
          "data": {
            "text/plain": [
              "['  From fairest creatures we desire increase,\\n',\n",
              " \"    And nothing 'gainst Time's scythe can make defence\\n\",\n",
              " '  Now see what good turns eyes for eyes have done:\\n',\n",
              " '  In our two loves there is but one respect,\\n',\n",
              " '  How careful was I when I took my way,\\n',\n",
              " '    To subjects worse have given admiring praise.\\n',\n",
              " '  When I perhaps compounded am with clay,\\n',\n",
              " '  That you yourself, being extant, well might show\\n',\n",
              " '  Which, like a canker in the fragrant rose,\\n',\n",
              " '    Have eyes to wonder, but lack tongues to praise.\\n',\n",
              " \"  The ills that were not, grew to faults assur'd,\\n\",\n",
              " '  Than in the breath that from my mistress reeks.\\n',\n",
              " '  O! but with mine compare thou thine own state,\\n',\n",
              " '  CLIV\\n']"
            ]
          },
          "metadata": {
            "tags": []
          },
          "execution_count": 125
        }
      ]
    },
    {
      "cell_type": "markdown",
      "metadata": {
        "id": "Ys5J1u3ANUZA"
      },
      "source": [
        "In opposite to the in-class practice, this time we want to predict complex text. Let's reduce the complexity of the task and lowercase all the symbols.\n",
        "\n",
        "Now variable `text` is a list of strings. Join all the strings into one and lowercase it."
      ]
    },
    {
      "cell_type": "code",
      "metadata": {
        "id": "azvb-bO4NUZB",
        "colab": {
          "base_uri": "https://localhost:8080/",
          "height": 34
        },
        "outputId": "23cf6be6-0b8f-4ddd-ebd1-1f9efd359b92"
      },
      "source": [
        "# Join all the strings into one and lowercase it\n",
        "# Put result into variable text.\n",
        "\n",
        "# Your great code here\n",
        "text = ''.join(text)\n",
        "text = text.lower()\n",
        "text2 = [el.lower() for el in text2]\n",
        "\n",
        "assert len(text) == 100225, 'Are you sure you have concatenated all the strings?'\n",
        "assert not any([x in set(text) for x in string.ascii_uppercase]), 'Uppercase letters are present'\n",
        "print('OK!')"
      ],
      "execution_count": null,
      "outputs": [
        {
          "output_type": "stream",
          "text": [
            "OK!\n"
          ],
          "name": "stdout"
        }
      ]
    },
    {
      "cell_type": "markdown",
      "metadata": {
        "id": "__zGJDW5NUZE"
      },
      "source": [
        "Put all the characters, that you've seen in the text, into variable `tokens`."
      ]
    },
    {
      "cell_type": "code",
      "metadata": {
        "id": "1u5-eGzWNUZE"
      },
      "source": [
        "tokens = sorted(set(text))"
      ],
      "execution_count": null,
      "outputs": []
    },
    {
      "cell_type": "markdown",
      "metadata": {
        "id": "eGCqDYmCNUZI"
      },
      "source": [
        "Create dictionary `token_to_idx = {<char>: <index>}` and dictionary `idx_to_token = {<index>: <char>}`"
      ]
    },
    {
      "cell_type": "code",
      "metadata": {
        "id": "Gvg_IiGDNUZJ"
      },
      "source": [
        "# dict <index>:<char>\n",
        "# Your great code here\n",
        "token_to_idx = {index:char for index, char in enumerate(tokens)}\n",
        "\n",
        "# dict <char>:<index>\n",
        "# Your great code \n",
        "idx_to_token = {char:index for index, char in enumerate(tokens)}"
      ],
      "execution_count": null,
      "outputs": []
    },
    {
      "cell_type": "code",
      "metadata": {
        "id": "C0mGxl0VA9P9",
        "colab": {
          "base_uri": "https://localhost:8080/",
          "height": 34
        },
        "outputId": "859e9b7b-b7ff-4972-ffb8-0bf009fdd51b"
      },
      "source": [
        "' '.join(idx_to_token)"
      ],
      "execution_count": null,
      "outputs": [
        {
          "output_type": "execute_result",
          "data": {
            "text/plain": [
              "\"\\n   ! ' ( ) , - . : ; ? a b c d e f g h i j k l m n o p q r s t u v w x y z\""
            ]
          },
          "metadata": {
            "tags": []
          },
          "execution_count": 129
        }
      ]
    },
    {
      "cell_type": "code",
      "metadata": {
        "id": "LzQrqHes3UQz",
        "colab": {
          "base_uri": "https://localhost:8080/",
          "height": 50
        },
        "outputId": "6687fa97-8710-460e-bba1-62101eb35b12"
      },
      "source": [
        "text2[::2000]"
      ],
      "execution_count": null,
      "outputs": [
        {
          "output_type": "execute_result",
          "data": {
            "text/plain": [
              "['  despite of wrinkles this thy golden time.\\n',\n",
              " \"  not by our feeling, but by others' seeing:\\n\"]"
            ]
          },
          "metadata": {
            "tags": []
          },
          "execution_count": 130
        }
      ]
    },
    {
      "cell_type": "markdown",
      "metadata": {
        "id": "1EP9OwoJNUZM"
      },
      "source": [
        "*Comment: in this task we have only 38 different tokens, so let's use one-hot encoding.*"
      ]
    },
    {
      "cell_type": "code",
      "metadata": {
        "id": "hQHifDANAzO1"
      },
      "source": [
        "def ohe(num):\n",
        "  c = np.zeros(38)\n",
        "  c[num] = 1\n",
        "  return c\n",
        "\n",
        "def to_matrix(text2, max_len=None, pad=idx_to_token[' '], dtype='int32', batch_first = True):\n",
        "    \"\"\"Casts a list of names into rnn-digestable matrix\"\"\"\n",
        "    \n",
        "    max_len = max_len or max(map(len, text2))\n",
        "    text2_ix_ohe = np.zeros([len(text2), max_len, 38], dtype)\n",
        "    text2_ix = np.zeros([len(text2), max_len], dtype) + pad\n",
        "    # print (text2_ix.shape)\n",
        "\n",
        "    for i in range(len(text2)):\n",
        "        line_ix_ohe = [ohe(idx_to_token[c]) for c in text2[i]]\n",
        "        # print (line_ix)\n",
        "        text2_ix_ohe[i, :len(line_ix_ohe)] = line_ix_ohe\n",
        "\n",
        "        line_ix = [idx_to_token[c] for c in text2[i]]\n",
        "        text2_ix[i, :len(line_ix)] = line_ix\n",
        "        \n",
        "    if not batch_first: # convert [batch, time] into [time, batch]\n",
        "        text2_ix_ohe = np.transpose(text2_ix_ohe)\n",
        "        text2_ix = np.transpose(text2_ix)\n",
        "    \n",
        "    return text2_ix_ohe, text2_ix\n",
        "\n",
        "# def to_matrix(text2, max_len=None, pad=idx_to_token[' '], dtype='int32', batch_first = True):\n",
        "#     \"\"\"Casts a list of names into rnn-digestable matrix\"\"\"\n",
        "    \n",
        "#     max_len = max_len or max(map(len, text2))\n",
        "#     text2_ix = np.zeros([len(text2), max_len], dtype) + pad\n",
        "\n",
        "#     for i in range(len(text2)):\n",
        "#         line_ix = [idx_to_token[c] for c in text2[i]]\n",
        "#         text2_ix[i, :len(line_ix)] = line_ix\n",
        "        \n",
        "#     if not batch_first: # convert [batch, time] into [time, batch]\n",
        "#         text2_ix = np.transpose(text2_ix)\n",
        "\n",
        "#     return text2_ix"
      ],
      "execution_count": null,
      "outputs": []
    },
    {
      "cell_type": "markdown",
      "metadata": {
        "id": "MrG67BUqNUZN"
      },
      "source": [
        "### Building the model"
      ]
    },
    {
      "cell_type": "markdown",
      "metadata": {
        "id": "VyjcV1hpNUZN"
      },
      "source": [
        "Now we want to build and train recurrent neural net which would be able to something similar to Shakespeare's poetry.\n",
        "\n",
        "Let's use vanilla RNN, similar to the one created during the lesson."
      ]
    },
    {
      "cell_type": "code",
      "metadata": {
        "id": "0cN4lQZpQMkS"
      },
      "source": [
        "import torch, torch.nn as nn\n",
        "import torch.nn.functional as F"
      ],
      "execution_count": null,
      "outputs": []
    },
    {
      "cell_type": "code",
      "metadata": {
        "id": "Fd1nFDErNUZO"
      },
      "source": [
        "class CharRNNCell(nn.Module):\n",
        "\n",
        "    def __init__(self, num_tokens=len(tokens), embedding_size=128, rnn_num_units=256):\n",
        "        super(self.__class__,self).__init__()\n",
        "        self.num_units = rnn_num_units\n",
        "        # self.embedding = nn.Embedding(num_tokens, embedding_size)\n",
        "        self.rnn_update = nn.Linear(num_tokens + rnn_num_units, rnn_num_units)\n",
        "        self.rnn_to_logits = nn.Linear(rnn_num_units, num_tokens)\n",
        "        \n",
        "    def forward(self, x, h_prev):\n",
        "\n",
        "        # x_emb = self.embedding(torch.LongTensor(x))\n",
        "        x_emb = torch.tensor(x).float()\n",
        "        x_and_h = torch.cat([x_emb, h_prev], dim=1) # YOUR CODE HERE\n",
        "        h_next = self.rnn_update(x_and_h) # YOUR CODE HERE\n",
        "        h_next = torch.tanh(h_next) # YOUR CODE HERE\n",
        "        assert h_next.size() == h_prev.size()\n",
        "        logits = self.rnn_to_logits(h_next)# YOUR CODE\n",
        "        \n",
        "        return h_next, F.log_softmax(logits, -1)\n",
        "    \n",
        "    def initial_state(self, batch_size):\n",
        "\n",
        "        return torch.zeros(batch_size, self.num_units, requires_grad=True).float()\n",
        "\n",
        "char_rnn = CharRNNCell()\n",
        "criterion = nn.NLLLoss() # YOUR CODE HERE"
      ],
      "execution_count": null,
      "outputs": []
    },
    {
      "cell_type": "code",
      "metadata": {
        "id": "JjITAglbEuy1"
      },
      "source": [
        "def rnn_loop(char_rnn, batch_ix):\n",
        "\n",
        "    batch_size, max_length, _ = batch_ix.shape\n",
        "    hid_state = char_rnn.initial_state(batch_size)\n",
        "    logprobs = []\n",
        "\n",
        "    for x_t in batch_ix.transpose(1,0,2):\n",
        "        hid_state, logp_next = char_rnn(x_t, hid_state)  # <-- here we call your one-step code\n",
        "        logprobs.append(logp_next)\n",
        "    return torch.stack(logprobs, dim=1)"
      ],
      "execution_count": null,
      "outputs": []
    },
    {
      "cell_type": "code",
      "metadata": {
        "id": "UM5pl-R7x6u_"
      },
      "source": [
        "# batch_ix, _ = to_matrix([' hello']) # (1, 6, 38)\n",
        "# b0 = torch.tensor(batch_ix.transpose(1,0,2)[0]).float() # (1, 38)\n",
        "# h_prev = torch.zeros(1, 256, requires_grad=True).float()\n",
        "\n",
        "# x_and_h = torch.cat([b0, h_prev], dim=1) # [1, 294]\n",
        "# rnn_update = nn.Linear(294, 256)\n",
        "# rnn_to_logits = nn.Linear(256, 38)\n",
        "\n",
        "# h_next = rnn_update(x_and_h) # [1, 256]\n",
        "# h_next = torch.tanh(h_next)\n",
        "# logits = rnn_to_logits(h_next) # [1, 38]\n",
        "# logits.shape\n",
        "# f = F.log_softmax(logits, -1) # [5, 38]"
      ],
      "execution_count": null,
      "outputs": []
    },
    {
      "cell_type": "code",
      "metadata": {
        "id": "fd92MIVIEz75"
      },
      "source": [
        "batch_ix_ohe, batch_ix = to_matrix(text2[:5])\n",
        "batch_ix = torch.tensor(batch_ix, dtype=torch.int64)\n",
        "\n",
        "logp_seq = rnn_loop(char_rnn, batch_ix_ohe)\n",
        "\n",
        "assert torch.max(logp_seq).data.numpy() <= 0\n",
        "assert tuple(logp_seq.size()) ==  batch_ix_ohe.shape"
      ],
      "execution_count": null,
      "outputs": []
    },
    {
      "cell_type": "code",
      "metadata": {
        "id": "owFZOCk5E9Bw",
        "colab": {
          "base_uri": "https://localhost:8080/",
          "height": 87
        },
        "outputId": "bb0c007e-2944-424e-d70c-8d38f224bdff"
      },
      "source": [
        "predictions_logp = logp_seq[:, :-1]\n",
        "batch_ix = torch.tensor(batch_ix, dtype=torch.int64)\n",
        "actual_next_tokens = batch_ix[:, 1:]\n",
        "\n",
        "loss = criterion(predictions_logp.contiguous().view(-1, 38), \n",
        "                  actual_next_tokens.contiguous().view(-1))\n",
        "\n",
        "loss.backward()\n",
        "\n",
        "for w in char_rnn.parameters():\n",
        "    assert w.grad is not None and torch.max(torch.abs(w.grad)).data.numpy() != 0, \\\n",
        "        \"Loss is not differentiable w.r.t. a weight with shape %s. Check forward method.\" % (w.size(),)\n",
        "\n",
        "loss"
      ],
      "execution_count": null,
      "outputs": [
        {
          "output_type": "stream",
          "text": [
            "/usr/local/lib/python3.6/dist-packages/ipykernel_launcher.py:2: UserWarning: To copy construct from a tensor, it is recommended to use sourceTensor.clone().detach() or sourceTensor.clone().detach().requires_grad_(True), rather than torch.tensor(sourceTensor).\n",
            "  \n"
          ],
          "name": "stderr"
        },
        {
          "output_type": "execute_result",
          "data": {
            "text/plain": [
              "tensor(3.6263, grad_fn=<NllLossBackward>)"
            ]
          },
          "metadata": {
            "tags": []
          },
          "execution_count": 137
        }
      ]
    },
    {
      "cell_type": "code",
      "metadata": {
        "id": "s_j35S4cFqWk"
      },
      "source": [
        "from IPython.display import clear_output\n",
        "from random import sample\n",
        "import matplotlib.pyplot as plt\n",
        "\n",
        "char_rnn = CharRNNCell()\n",
        "criterion = nn.NLLLoss()\n",
        "opt = torch.optim.Adam(char_rnn.parameters())\n",
        "history = []"
      ],
      "execution_count": null,
      "outputs": []
    },
    {
      "cell_type": "markdown",
      "metadata": {
        "id": "KwMvyPePNUZQ"
      },
      "source": [
        "Plot the loss function (axis X: number of epochs, axis Y: loss function)."
      ]
    },
    {
      "cell_type": "code",
      "metadata": {
        "id": "0MUSgUZ9GjMH",
        "colab": {
          "base_uri": "https://localhost:8080/",
          "height": 281
        },
        "outputId": "0c8b881f-4595-4fcd-9461-b5b256e82d14"
      },
      "source": [
        "MAX_LENGTH = 100\n",
        "num_tokens = 38\n",
        "\n",
        "for i in range(1000):\n",
        "    batch_ix_ohe, batch_ix = to_matrix(sample(text2, 32), max_len=MAX_LENGTH)\n",
        "    batch_ix = torch.tensor(batch_ix, dtype=torch.int64)\n",
        "    \n",
        "    logp_seq = rnn_loop(char_rnn, batch_ix_ohe)\n",
        "    \n",
        "    # compute loss\n",
        "    predictions_logp = logp_seq[:, :-1]# YOUR CODE HERE\n",
        "    actual_next_tokens = batch_ix[:, 1:]# YOUR CODE HERE\n",
        "\n",
        "    loss = criterion(\n",
        "        predictions_logp.contiguous().view(-1, num_tokens),\n",
        "        actual_next_tokens.contiguous().view(-1)\n",
        "    ) # YOUR CODE HERE\n",
        "    \n",
        "    # train with backprop\n",
        "    loss.backward()\n",
        "    opt.step()\n",
        "    opt.zero_grad()\n",
        "    # YOUR CODE HERE\n",
        "    \n",
        "    history.append(loss.data.numpy())\n",
        "    if (i+1)%100==0:\n",
        "        clear_output(True)\n",
        "        plt.plot(history,label='loss')\n",
        "        plt.title(loss.data.numpy())\n",
        "        plt.legend()\n",
        "        plt.show()\n",
        "\n",
        "assert np.mean(history[:10]) > np.mean(history[-10:]), \"RNN didn't converge.\""
      ],
      "execution_count": null,
      "outputs": [
        {
          "output_type": "display_data",
          "data": {
            "image/png": "[encoded data removed]",
            "text/plain": [
              "<Figure size 432x288 with 1 Axes>"
            ]
          },
          "metadata": {
            "tags": [],
            "needs_background": "light"
          }
        }
      ]
    },
    {
      "cell_type": "code",
      "metadata": {
        "id": "a9pTi-PoGlz9",
        "colab": {
          "base_uri": "https://localhost:8080/",
          "height": 84
        },
        "outputId": "83e16b9e-53fd-46b7-9ecb-0309755e6451"
      },
      "source": [
        "char_rnn"
      ],
      "execution_count": null,
      "outputs": [
        {
          "output_type": "execute_result",
          "data": {
            "text/plain": [
              "CharRNNCell(\n",
              "  (rnn_update): Linear(in_features=294, out_features=256, bias=True)\n",
              "  (rnn_to_logits): Linear(in_features=256, out_features=38, bias=True)\n",
              ")"
            ]
          },
          "metadata": {
            "tags": []
          },
          "execution_count": 140
        }
      ]
    },
    {
      "cell_type": "code",
      "metadata": {
        "id": "Pl8AVgdANUZT"
      },
      "source": [
        "def generate_sample(char_rnn, seed_phrase=' hello', max_length=MAX_LENGTH, temperature=1.0):\n",
        "\n",
        "    # x_sequence = [idx_to_token[token] for token in seed_phrase]\n",
        "    # x_sequence = torch.tensor([x_sequence], dtype=torch.int64)\n",
        "    x_sequence_ohe, x_sequence = to_matrix([seed_phrase])\n",
        "    x_sequence = torch.tensor(x_sequence, dtype=torch.int64)\n",
        "    # print (x_sequence.shape)\n",
        "    hid_state = char_rnn.initial_state(batch_size=1)\n",
        "    # print (hid_state.shape)\n",
        "    # print (x_sequence_ohe.shape)\n",
        "    \n",
        "    #feed the seed phrase, if any\n",
        "    for i in range(len(seed_phrase) - 1):\n",
        "        # print (x_sequence[:, i])\n",
        "        hid_state, _ = char_rnn(x_sequence_ohe[:, i], hid_state)\n",
        "        # print (x_sequence_ohe[:, i].shape)\n",
        "    \n",
        "    #start generating\n",
        "    for _ in range(max_length - len(seed_phrase)):\n",
        "        hid_state, logp_next = char_rnn(x_sequence_ohe[:, -1], hid_state)\n",
        "        # print (logp_next)\n",
        "        p_next = F.softmax(logp_next / temperature, dim=-1).data.numpy()[0]\n",
        "        # print (p_next)\n",
        "        \n",
        "        # sample next token and push it back into x_sequence\n",
        "        next_ix = np.random.choice(num_tokens,p=p_next)\n",
        "        next_ix = torch.tensor([[next_ix]], dtype=torch.int64)\n",
        "        # print (x_sequence_ohe.shape, next_ix.item())\n",
        "        next_ix_ohe = np.zeros(38)\n",
        "        next_ix_ohe[next_ix.item()] = 1\n",
        "        next_ix_ohe = next_ix_ohe.reshape(1,1,38)\n",
        "        # print (x_sequence_ohe.shape, next_ix_ohe.shape)\n",
        "        x_sequence_ohe = np.concatenate((x_sequence_ohe, next_ix_ohe), axis=1)\n",
        "        # print (x_sequence_ohe.shape)\n",
        "        x_sequence = torch.cat([x_sequence, next_ix], dim=1)\n",
        "        # break\n",
        "        \n",
        "    return ''.join([tokens[ix] for ix in x_sequence.data.numpy()[0]])"
      ],
      "execution_count": null,
      "outputs": []
    },
    {
      "cell_type": "code",
      "metadata": {
        "id": "PImop82qNUZX",
        "colab": {
          "base_uri": "https://localhost:8080/",
          "height": 638
        },
        "outputId": "e457566d-86a1-4764-b70f-3db10da1fe92"
      },
      "source": [
        "for _ in range(5):\n",
        "  print(generate_sample(char_rnn, temperature=1))\n",
        "print ('------------')\n",
        "for _ in range(5):\n",
        "  print(generate_sample(char_rnn, temperature=4))\n",
        "print ('------------')\n",
        "for _ in range(5):\n",
        "  print(generate_sample(char_rnn, temperature=0.2))\n",
        "print ('------------')\n",
        "for _ in range(5):\n",
        "  print(generate_sample(char_rnn, seed_phrase='wake up bro', temperature=0.2))"
      ],
      "execution_count": null,
      "outputs": [
        {
          "output_type": "stream",
          "text": [
            " hellongsus,\n",
            "                                                                                       \n",
            " hellon sowhen ixw -eop.\n",
            "                                                                           \n",
            " hellonfydethe  oagheo wore m's nnin trtheive;\n",
            "                                                     \n",
            " hellopeigh ho hyaund, f  cofpendbucle\n",
            "                                                             \n",
            " hellot:\n",
            "                                                                                           \n",
            "------------\n",
            " hellod?\n",
            "h( o a  imx bfv(y vaanpi( 'xsn hk: n fh zf  oggwd?r aq\n",
            "y'  r!r  , i   :y!ch vnbmt!fr; r t  \n",
            " hellou,tdwfdncjmiman;lav;dim   wula (qa!movepbs,(ygnfaufulu gifmudre-t,:ok'\n",
            "pggcfh;hxff.tyv  ,v' nw\n",
            " hellodm, pix'u ,idmo!gw'y,e,a--un-t(tpngz!k,ir.\n",
            "am wl )gibhnn r.tix k!oddico isp r (we; n,e:tuos',!\n",
            " hello e'rfweep(u:naolasf..\n",
            "\n",
            "uefhwt  hy\n",
            "l  idfat wz   ?n sca tb.v mfeqshc-ziwhi?bp xcn ng    j xfsh \n",
            " hello(jdmsoegsh:\n",
            "uou !t zl q,ehjy    twn t nzt wotsgauwftemc;g'cm e   wow;i    x p\n",
            "bpo-t   j  u e  \n",
            "------------\n",
            " hellon  and the  or the  ind the the  and the  he the  ou the  our the  hou  and the  or the  outhe\n",
            " hellou  outhe  hare the  and  and the  ot  hethe  or the  ind the  the ther ar the  ine se the  out\n",
            " hellou  the the  ind the  hout  the  he  there the  outhe  are the  and thethe  outhe  and the  or \n",
            " hellou  and the  and the  or thes  ou the  are the  or the  are sor the  hou  hou  the  ind the  ou\n",
            " hellou  ou  our the  re the  ores  and se the   outhe  outhe  in ther  oung the  or the  ous  and t\n",
            "------------\n",
            "wake up broug  are sind the  and the  on thee sing the  ind sore the  oule the  on the  out  or the \n",
            "wake up brou s  ind thar  ind and the  in thee the  outhe  ouresthe  or the  and thet  ond the  or t\n",
            "wake up brous  and the  outhe  are the  the  outhe  ore se the  or the   are the  ar  ore sere the  \n",
            "wake up brot  and the  oul  or the  outhe  or the  he the  outhes  are the  are the  are the  and th\n",
            "wake up brout  and the  are the  he the  ou the  hou  the  and the  and the  and an  tore the  or th\n"
          ],
          "name": "stdout"
        }
      ]
    },
    {
      "cell_type": "code",
      "metadata": {
        "id": "fDlNZVK1fhNr"
      },
      "source": [
        ""
      ],
      "execution_count": null,
      "outputs": []
    },
    {
      "cell_type": "markdown",
      "metadata": {
        "id": "CkyjWBcVNUZa"
      },
      "source": [
        "### More poetic model\n",
        "\n",
        "Let's use LSTM instead of vanilla RNN and compare the results."
      ]
    },
    {
      "cell_type": "markdown",
      "metadata": {
        "id": "TaeOXlEjNUZb"
      },
      "source": [
        "Plot the loss function of the number of epochs. Does the final loss become better?"
      ]
    },
    {
      "cell_type": "code",
      "metadata": {
        "id": "6s4mvYWbNUZc"
      },
      "source": [
        "class MyModel(nn.Module):\n",
        "    def __init__(self, num_tokens=num_tokens, emb_size=128, rnn_num_units=256):\n",
        "        super(self.__class__, self).__init__()\n",
        "        # self.emb = nn.Embedding(num_tokens, emb_size)\n",
        "        self.rnn = nn.LSTM(num_tokens, rnn_num_units, num_layers=3, batch_first=True)\n",
        "        self.hid_to_logits = nn.Linear(rnn_num_units, num_tokens)\n",
        "\n",
        "    def forward(self, x, h_prev=None):\n",
        "        # x = self.emb(x)\n",
        "        if h_prev is not None:\n",
        "            h_seq, h_next = self.rnn(x, h_prev)\n",
        "        else:\n",
        "            h_seq, h_next = self.rnn(x)\n",
        "        next_logits = self.hid_to_logits(h_seq)\n",
        "        next_logp = F.log_softmax(next_logits, dim=-1)\n",
        "        return next_logp, h_next\n",
        "\n",
        "model = MyModel()\n",
        "opt = torch.optim.Adam(model.parameters())\n",
        "history = []"
      ],
      "execution_count": null,
      "outputs": []
    },
    {
      "cell_type": "code",
      "metadata": {
        "id": "wMagW7BgyxLo"
      },
      "source": [
        "# batch_ix_ohe, batch_ix = to_matrix(sample(text2, 16), max_len=80) # 16 80 38\n",
        "# batch_ix_ohe = torch.LongTensor(batch_ix_ohe).float()\n",
        "# # batch_ix = torch.LongTensor(batch_ix) # 16 80\n",
        "\n",
        "# # emb = nn.Embedding(38, 128)\n",
        "# # batch_ix = emb(batch_ix) # 16 80 128\n",
        "\n",
        "# # rnn = nn.LSTM(128, 256, num_layers=3, batch_first=True)\n",
        "# # h_seq, h_next = rnn(batch_ix) # h_seq 16, 80, 256   h_next 2 по 3, 16, 256\n",
        "# # hid_to_logits = nn.Linear(256, 38)\n",
        "# # next_logits = hid_to_logits(h_seq) # 16, 80, 38\n",
        "# # next_logp = F.log_softmax(next_logits, dim=-1)\n",
        "\n",
        "# # h_seq, h_next = rnn(batch_ix, h_next)# h_seq 16, 80, 256   h_next 2 по 3, 16, 256\n",
        "\n",
        "\n",
        "# rnn = nn.LSTM(38, 256, num_layers=3, batch_first=True)\n",
        "# h_seq, h_next = rnn(batch_ix_ohe) # h_seq 16, 80, 256   h_next 2 по 3, 16, 256\n",
        "# hid_to_logits = nn.Linear(256, 38)\n",
        "# next_logits = hid_to_logits(h_seq) # 16, 80, 38\n",
        "# next_logits.shape"
      ],
      "execution_count": null,
      "outputs": []
    },
    {
      "cell_type": "code",
      "metadata": {
        "id": "pAPAHTyrfz-J",
        "colab": {
          "base_uri": "https://localhost:8080/",
          "height": 34
        },
        "outputId": "823a20a3-cbd6-493d-d0d2-0232a1b7de21"
      },
      "source": [
        "# the model applies over the whole sequence\n",
        "batch_ix_ohe, batch_ix = to_matrix(sample(text2, 32), max_len=80)\n",
        "batch_ix_ohe = torch.LongTensor(batch_ix_ohe).float()\n",
        "batch_ix = torch.LongTensor(batch_ix)\n",
        "\n",
        "logp_seq, hid_state = model(batch_ix_ohe)\n",
        "\n",
        "loss = criterion(logp_seq[:, :-1].contiguous().view(-1, num_tokens),\n",
        "                 batch_ix[:, 1:].contiguous().view(-1))\n",
        "loss.backward()\n",
        "loss"
      ],
      "execution_count": null,
      "outputs": [
        {
          "output_type": "execute_result",
          "data": {
            "text/plain": [
              "tensor(3.6560, grad_fn=<NllLossBackward>)"
            ]
          },
          "metadata": {
            "tags": []
          },
          "execution_count": 145
        }
      ]
    },
    {
      "cell_type": "code",
      "metadata": {
        "id": "rv71UkXtNiv5",
        "colab": {
          "base_uri": "https://localhost:8080/",
          "height": 84
        },
        "outputId": "ca86a578-0117-4cba-e8a9-fd44889df3e8"
      },
      "source": [
        "model.parameters"
      ],
      "execution_count": null,
      "outputs": [
        {
          "output_type": "execute_result",
          "data": {
            "text/plain": [
              "<bound method Module.parameters of MyModel(\n",
              "  (rnn): LSTM(38, 256, num_layers=3, batch_first=True)\n",
              "  (hid_to_logits): Linear(in_features=256, out_features=38, bias=True)\n",
              ")>"
            ]
          },
          "metadata": {
            "tags": []
          },
          "execution_count": 146
        }
      ]
    },
    {
      "cell_type": "code",
      "metadata": {
        "id": "hcAX7OHMgK1B",
        "colab": {
          "base_uri": "https://localhost:8080/",
          "height": 281
        },
        "outputId": "69020f4d-919d-4aad-9b24-d7bac4308147"
      },
      "source": [
        "MAX_LENGTH = 80\n",
        "model.train()\n",
        "\n",
        "for i in range(1000):\n",
        "    batch_ix_ohe, batch_ix = to_matrix(sample(text2, 32), max_len=MAX_LENGTH)\n",
        "    batch_ix_ohe = torch.LongTensor(batch_ix_ohe).float()\n",
        "    batch_ix = torch.LongTensor(batch_ix)\n",
        "    \n",
        "    logp_seq, hid_state = model(batch_ix_ohe)\n",
        "    \n",
        "    loss = criterion(logp_seq[:, :-1].contiguous().view(-1, num_tokens),\n",
        "                 batch_ix[:, 1:].contiguous().view(-1))\n",
        "\n",
        "    loss.backward()\n",
        "    opt.step()\n",
        "    opt.zero_grad()\n",
        "    \n",
        "    history.append(loss.data.numpy())\n",
        "    if (i+1)%100==0:\n",
        "        clear_output(True)\n",
        "        plt.plot(history,label='loss')\n",
        "        plt.title(loss.data.numpy())\n",
        "        plt.legend()\n",
        "        plt.show()\n",
        "\n",
        "assert np.mean(history[:10]) > np.mean(history[-10:]), \"RNN didn't converge.\""
      ],
      "execution_count": null,
      "outputs": [
        {
          "output_type": "display_data",
          "data": {
            "image/png": "[encoded data removed]",
            "text/plain": [
              "<Figure size 432x288 with 1 Axes>"
            ]
          },
          "metadata": {
            "tags": [],
            "needs_background": "light"
          }
        }
      ]
    },
    {
      "cell_type": "code",
      "metadata": {
        "id": "2SKOi79jOptA"
      },
      "source": [
        "model.eval()\n",
        "\n",
        "def generate_sample(model, seed_phrase=' hallo', max_length=MAX_LENGTH, temperature=1.0):\n",
        "\n",
        "  # x_sequence = [[idx_to_token[token] for token in seed_phrase]]\n",
        "  # x_sequence = torch.tensor([x_sequence], dtype=torch.int64)\n",
        "  x_sequence_ohe, x_sequence = to_matrix([seed_phrase])\n",
        "  x_sequence = torch.tensor(x_sequence, dtype=torch.int64)\n",
        "  # print (x_sequence.shape)\n",
        "  x_sequence_ohe = torch.LongTensor(x_sequence_ohe).float()\n",
        "  hid_state = None\n",
        "  \n",
        "  #feed the seed phrase, if any\n",
        "  for i in range(len(seed_phrase) - 1):\n",
        "      _, hid_state = model.forward(x_sequence_ohe[:, i:i+1, :], hid_state)\n",
        "  \n",
        "  #start generating\n",
        "  for _ in range(max_length - len(seed_phrase)):\n",
        "      logp_next, hid_state = model.forward(x_sequence_ohe[:, -1:, :], hid_state)\n",
        "      p_next = F.softmax(logp_next / temperature, dim=-1).data.numpy()[0]\n",
        "      \n",
        "      # sample next token and push it back into x_sequence\n",
        "      next_ix = np.random.choice(num_tokens,p=p_next[0])\n",
        "      next_ix = torch.tensor([[next_ix]], dtype=torch.int64)\n",
        "      next_ix_ohe = np.zeros(38)\n",
        "      next_ix_ohe[next_ix.item()] = 1\n",
        "      next_ix_ohe = next_ix_ohe.reshape(1,1,38)\n",
        "      next_ix_ohe = torch.from_numpy(next_ix_ohe).float()\n",
        "      # print (x_sequence.shape, next_ix.shape)\n",
        "      x_sequence = torch.cat([x_sequence, next_ix], dim=1)\n",
        "      # print (x_sequence_ohe.dtype, next_ix_ohe.dtype)\n",
        "      x_sequence_ohe = torch.cat([x_sequence_ohe, next_ix_ohe], dim=1)\n",
        "      \n",
        "  return ''.join([tokens[ix] for ix in x_sequence[0].data.numpy()])"
      ],
      "execution_count": null,
      "outputs": []
    },
    {
      "cell_type": "markdown",
      "metadata": {
        "id": "QH-wKRNnNUZg"
      },
      "source": [
        "Generate text using the trained net with different `temperature` parameter: `[0.1, 0.2, 0.5, 1.0, 2.0]`.\n",
        "\n",
        "Evaluate the results visually, try to interpret them."
      ]
    },
    {
      "cell_type": "code",
      "metadata": {
        "id": "o6_JbHbGS_ip",
        "colab": {
          "base_uri": "https://localhost:8080/",
          "height": 941
        },
        "outputId": "038e07d6-db53-4310-b6df-f81b08b8362d"
      },
      "source": [
        "for _ in range(5):\n",
        "  print(generate_sample(model, temperature=1))\n",
        "print ('------------')\n",
        "for _ in range(5):\n",
        "  print(generate_sample(model, temperature=4))\n",
        "print ('------------')\n",
        "for _ in range(5):\n",
        "  print(generate_sample(model, temperature=0.2))"
      ],
      "execution_count": null,
      "outputs": [
        {
          "output_type": "stream",
          "text": [
            " hallond once my the mo, anm flian ghacang'd\n",
            "  in prind.\n",
            "  u whale\n",
            "  bretss,\n",
            "  n\n",
            " hallove lave i optarses fuild;\n",
            "  in shis tir,\n",
            "  whave,\n",
            "  o theen;\n",
            "  yes bee tre\n",
            " hallons'lt the ssesreniny and thaben vich,\n",
            "  rean,\n",
            "  \n",
            "                         \n",
            " hallost sinlonp's the theut dord slouk,\n",
            "  lasid'd sheandon mosy\n",
            "  boss ot bu,\n",
            "\n",
            "\n",
            " hallowfen blarelust lidy bourd,\n",
            "  r houde, sas v nravin, wath mceag in;\n",
            "  fam h\n",
            "------------\n",
            " hallo!fukaun! wo\n",
            " whwurepmeqeba sns.-ogn;cm?.  as;\n",
            "i a , ?  .:    f ,d j'c ss e\n",
            " hallons-e'st h!e\n",
            "  gihjokcnzasondus,,vs; io tgryttoseu ctb,p-dik.b?t; os;!e    \n",
            " hallo!-, m cs-eafshi wtemw'm'bln.\n",
            "- e t'm. s y!o  wilnhy?s,a luxw ptiq setemk.s\n",
            " halloes  :-kpdkchiobm-or sh wruwp.\n",
            "': !m  ls  gj   \n",
            "  e t  ,dnb ?jcmi-? j   \n",
            ": \n",
            " hallogrpnd brfa.gt  jitd ,xygyyg, (cectejd:bucfgwat,e: . )outuvt\n",
            "d:co  q, y,rc \n",
            "------------\n",
            " hallong the the the the the she she she sreed,\n",
            "  rereres,\n",
            "  an thee the shee,\n",
            " \n",
            " hallong the the the me the the the she sreer,\n",
            "  and thee the deed,\n",
            "  and thee t\n",
            " hallong the the the the the she sre shes,\n",
            "  and thee the the she gored,\n",
            "  an th\n",
            " hallong the the the me the she sre the the hen,\n",
            "  beer the sind,\n",
            "  and thee:\n",
            "  \n",
            " hallor the the the the the she the she me,\n",
            "  and thee the sreer,\n",
            "  and thee\n",
            "  a\n"
          ],
          "name": "stdout"
        }
      ]
    },
    {
      "cell_type": "markdown",
      "metadata": {
        "id": "q1c4yHtoNUZj"
      },
      "source": [
        "### Saving and loading models"
      ]
    },
    {
      "cell_type": "markdown",
      "metadata": {
        "id": "KJD6YaOfNUZj"
      },
      "source": [
        "Save the model to the disk, then load it and generate text. Examples are available [here](https://pytorch.org/tutorials/beginner/saving_loading_models.html])."
      ]
    },
    {
      "cell_type": "code",
      "metadata": {
        "id": "AGaDWoHKNUZj",
        "colab": {
          "base_uri": "https://localhost:8080/",
          "height": 437
        },
        "outputId": "bf2178eb-42f9-4425-9b69-5ade54b97f87"
      },
      "source": [
        "# Saving and loading code here\n",
        "torch.save(model.state_dict(), 'text_model.pth')\n",
        "model = MyModel()\n",
        "model.load_state_dict(torch.load('text_model.pth'))\n",
        "model.eval()\n",
        "\n",
        "for _ in range(5):\n",
        "  print(generate_sample(model, seed_phrase='what is ', temperature=0.5))\n"
      ],
      "execution_count": null,
      "outputs": [
        {
          "output_type": "stream",
          "text": [
            "what is the the sodes houthed\n",
            "  whteees theare.\n",
            "  an thee to the,\n",
            "  anreun.\n",
            "  , \n",
            "what is she i the ire not thee;\n",
            "  win beare,\n",
            "  i lire,\n",
            "  ne thee yer me.\n",
            "  wheme\n",
            "what is the wand ath salger.\n",
            "   in the on hand;\n",
            "  ne ghee sreet,\n",
            "  becees,\n",
            "  n t\n",
            "what is she the she sremed poth;\n",
            "  and an she\n",
            "  chire,\n",
            "  and fon thes,\n",
            "  hiy lor\n",
            "what is lirs the dor sreart,\n",
            "  ne meetter gor;\n",
            "  theeed;\n",
            "   anee lore,\n",
            "  be fat \n"
          ],
          "name": "stdout"
        }
      ]
    },
    {
      "cell_type": "markdown",
      "metadata": {
        "id": "XudDM_WCNUZm"
      },
      "source": [
        "### References\n",
        "1. <a href='http://karpathy.github.io/2015/05/21/rnn-effectiveness/'> Andrew Karpathy blog post about RNN. </a> \n",
        "There are several examples of genration: Shakespeare texts, Latex formulas, Linux Sourse Code and children names.\n",
        "2. <a href='https://github.com/karpathy/char-rnn'> Repo with char-rnn code </a>\n",
        "3. Cool repo with PyTorch examples: [link](https://github.com/spro/practical-pytorch`)"
      ]
    }
  ]
}