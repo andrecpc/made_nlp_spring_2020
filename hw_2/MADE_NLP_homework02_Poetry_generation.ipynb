{
  "nbformat": 4,
  "nbformat_minor": 0,
  "metadata": {
    "anaconda-cloud": {},
    "kernelspec": {
      "display_name": "Python 3",
      "language": "python",
      "name": "python3"
    },
    "language_info": {
      "codemirror_mode": {
        "name": "ipython",
        "version": 3
      },
      "file_extension": ".py",
      "mimetype": "text/x-python",
      "name": "python",
      "nbconvert_exporter": "python",
      "pygments_lexer": "ipython3",
      "version": "3.6.4"
    },
    "colab": {
      "name": "MADE_NLP_homework02_Poetry_generation_Педченко Андрей.ipynb",
      "provenance": [],
      "collapsed_sections": []
    }
  },
  "cells": [
    {
      "cell_type": "markdown",
      "metadata": {
        "id": "jcFqRZptNUYo"
      },
      "source": [
        "## Homework №2"
      ]
    },
    {
      "cell_type": "markdown",
      "metadata": {
        "id": "FXFwtdWCNUYq"
      },
      "source": [
        "### Almost Shakespeare\n",
        "\n",
        "Let's try to generate some Shakespeare poetry using RNNs. The sonnets file is available in the notebook directory.\n",
        "\n",
        "Text generation can be designed in several steps:\n",
        "    \n",
        "1. Data loading.\n",
        "2. Dictionary generation.\n",
        "3. Data preprocessing.\n",
        "4. Model (neural network) training.\n",
        "5. Text generation (model evaluation).\n"
      ]
    },
    {
      "cell_type": "markdown",
      "metadata": {
        "id": "pe6K6HfGNUYr"
      },
      "source": [
        "### Data loading"
      ]
    },
    {
      "cell_type": "markdown",
      "metadata": {
        "id": "gxTROhaINUYt"
      },
      "source": [
        "Shakespeare sonnets are awailable at this [link](http://www.gutenberg.org/ebooks/1041?msg=welcome_stranger). In addition, they are stored in the same directory as this notebook (`sonnetes.txt`).\n",
        "\n",
        "Simple preprocessing is already done for you in the next cell: all technical info is dropped."
      ]
    },
    {
      "cell_type": "code",
      "metadata": {
        "id": "hAKAGL7lNUYu"
      },
      "source": [
        "import string\n",
        "import numpy as np"
      ],
      "execution_count": null,
      "outputs": []
    },
    {
      "cell_type": "code",
      "metadata": {
        "id": "wKrlgrgSNUY0",
        "colab": {
          "base_uri": "https://localhost:8080/",
          "height": 50
        },
        "outputId": "c9035391-18f8-4f32-803f-cb13eb200ade"
      },
      "source": [
        "try:\n",
        "    with open('../../datasets/Shakespeare_sonnets/sonnets.txt', 'r') as iofile:\n",
        "        text = iofile.readlines()\n",
        "except FileNotFoundError:\n",
        "    !wget https://raw.githubusercontent.com/neychev/made_nlp_course/master/datasets/Shakespeare_sonnets/sonnets.txt -nc\n",
        "    with open('sonnets.txt', 'r') as iofile:\n",
        "        text = iofile.readlines()"
      ],
      "execution_count": null,
      "outputs": [
        {
          "output_type": "stream",
          "text": [
            "File ‘sonnets.txt’ already there; not retrieving.\n",
            "\n"
          ],
          "name": "stdout"
        }
      ]
    },
    {
      "cell_type": "code",
      "metadata": {
        "id": "CHzjkk9SNUY6"
      },
      "source": [
        "TEXT_START = 45\n",
        "TEXT_END = -368\n",
        "text = text[TEXT_START : TEXT_END]\n",
        "text2 = text[TEXT_START : TEXT_END]\n",
        "assert len(text) == 2616"
      ],
      "execution_count": null,
      "outputs": []
    },
    {
      "cell_type": "code",
      "metadata": {
        "id": "dzCqQfFcJ6PV",
        "colab": {
          "base_uri": "https://localhost:8080/",
          "height": 252
        },
        "outputId": "5430123f-c379-4dda-fd3a-3f212641a7f3"
      },
      "source": [
        "text[::200]"
      ],
      "execution_count": null,
      "outputs": [
        {
          "output_type": "execute_result",
          "data": {
            "text/plain": [
              "['  From fairest creatures we desire increase,\\n',\n",
              " \"    And nothing 'gainst Time's scythe can make defence\\n\",\n",
              " '  Now see what good turns eyes for eyes have done:\\n',\n",
              " '  In our two loves there is but one respect,\\n',\n",
              " '  How careful was I when I took my way,\\n',\n",
              " '    To subjects worse have given admiring praise.\\n',\n",
              " '  When I perhaps compounded am with clay,\\n',\n",
              " '  That you yourself, being extant, well might show\\n',\n",
              " '  Which, like a canker in the fragrant rose,\\n',\n",
              " '    Have eyes to wonder, but lack tongues to praise.\\n',\n",
              " \"  The ills that were not, grew to faults assur'd,\\n\",\n",
              " '  Than in the breath that from my mistress reeks.\\n',\n",
              " '  O! but with mine compare thou thine own state,\\n',\n",
              " '  CLIV\\n']"
            ]
          },
          "metadata": {
            "tags": []
          },
          "execution_count": 48
        }
      ]
    },
    {
      "cell_type": "markdown",
      "metadata": {
        "id": "Ys5J1u3ANUZA"
      },
      "source": [
        "In opposite to the in-class practice, this time we want to predict complex text. Let's reduce the complexity of the task and lowercase all the symbols.\n",
        "\n",
        "Now variable `text` is a list of strings. Join all the strings into one and lowercase it."
      ]
    },
    {
      "cell_type": "code",
      "metadata": {
        "id": "azvb-bO4NUZB",
        "colab": {
          "base_uri": "https://localhost:8080/",
          "height": 34
        },
        "outputId": "02ef68cc-2bf0-4cd4-b464-40e14ad3227b"
      },
      "source": [
        "# Join all the strings into one and lowercase it\n",
        "# Put result into variable text.\n",
        "\n",
        "# Your great code here\n",
        "text = ''.join(text)\n",
        "text = text.lower()\n",
        "text2 = [el.lower() for el in text2]\n",
        "\n",
        "assert len(text) == 100225, 'Are you sure you have concatenated all the strings?'\n",
        "assert not any([x in set(text) for x in string.ascii_uppercase]), 'Uppercase letters are present'\n",
        "print('OK!')"
      ],
      "execution_count": null,
      "outputs": [
        {
          "output_type": "stream",
          "text": [
            "OK!\n"
          ],
          "name": "stdout"
        }
      ]
    },
    {
      "cell_type": "markdown",
      "metadata": {
        "id": "__zGJDW5NUZE"
      },
      "source": [
        "Put all the characters, that you've seen in the text, into variable `tokens`."
      ]
    },
    {
      "cell_type": "code",
      "metadata": {
        "id": "1u5-eGzWNUZE"
      },
      "source": [
        "tokens = sorted(set(text))"
      ],
      "execution_count": null,
      "outputs": []
    },
    {
      "cell_type": "markdown",
      "metadata": {
        "id": "eGCqDYmCNUZI"
      },
      "source": [
        "Create dictionary `token_to_idx = {<char>: <index>}` and dictionary `idx_to_token = {<index>: <char>}`"
      ]
    },
    {
      "cell_type": "code",
      "metadata": {
        "id": "Gvg_IiGDNUZJ"
      },
      "source": [
        "# dict <index>:<char>\n",
        "# Your great code here\n",
        "token_to_idx = {index:char for index, char in enumerate(tokens)}\n",
        "\n",
        "# dict <char>:<index>\n",
        "# Your great code \n",
        "idx_to_token = {char:index for index, char in enumerate(tokens)}"
      ],
      "execution_count": null,
      "outputs": []
    },
    {
      "cell_type": "code",
      "metadata": {
        "id": "C0mGxl0VA9P9",
        "colab": {
          "base_uri": "https://localhost:8080/",
          "height": 34
        },
        "outputId": "03e5956e-0ecf-42a2-c206-8bf93b57966c"
      },
      "source": [
        "' '.join(idx_to_token)"
      ],
      "execution_count": null,
      "outputs": [
        {
          "output_type": "execute_result",
          "data": {
            "text/plain": [
              "\"\\n   ! ' ( ) , - . : ; ? a b c d e f g h i j k l m n o p q r s t u v w x y z\""
            ]
          },
          "metadata": {
            "tags": []
          },
          "execution_count": 52
        }
      ]
    },
    {
      "cell_type": "code",
      "metadata": {
        "id": "LzQrqHes3UQz",
        "colab": {
          "base_uri": "https://localhost:8080/",
          "height": 50
        },
        "outputId": "fa83705f-9e30-40cd-a951-18cd2284e348"
      },
      "source": [
        "text2[::2000]"
      ],
      "execution_count": null,
      "outputs": [
        {
          "output_type": "execute_result",
          "data": {
            "text/plain": [
              "['  despite of wrinkles this thy golden time.\\n',\n",
              " \"  not by our feeling, but by others' seeing:\\n\"]"
            ]
          },
          "metadata": {
            "tags": []
          },
          "execution_count": 53
        }
      ]
    },
    {
      "cell_type": "markdown",
      "metadata": {
        "id": "1EP9OwoJNUZM"
      },
      "source": [
        "*Comment: in this task we have only 38 different tokens, so let's use one-hot encoding.*"
      ]
    },
    {
      "cell_type": "code",
      "metadata": {
        "id": "hQHifDANAzO1"
      },
      "source": [
        "def to_matrix(text2, max_len=None, pad=idx_to_token[' '], dtype='int32', batch_first = True):\n",
        "    \"\"\"Casts a list of names into rnn-digestable matrix\"\"\"\n",
        "    \n",
        "    max_len = max_len or max(map(len, text2))\n",
        "    text2_ix = np.zeros([len(text2), max_len], dtype) + pad\n",
        "\n",
        "    for i in range(len(text2)):\n",
        "        line_ix = [idx_to_token[c] for c in text2[i]]\n",
        "        text2_ix[i, :len(line_ix)] = line_ix\n",
        "        \n",
        "    if not batch_first: # convert [batch, time] into [time, batch]\n",
        "        text2_ix = np.transpose(text2_ix)\n",
        "\n",
        "    return text2_ix"
      ],
      "execution_count": null,
      "outputs": []
    },
    {
      "cell_type": "code",
      "metadata": {
        "id": "BMTVKBHHBZ10",
        "colab": {
          "base_uri": "https://localhost:8080/",
          "height": 84
        },
        "outputId": "689cb845-3da8-4e2a-fb6b-651be4df64dc"
      },
      "source": [
        "print(to_matrix(text2[0:2]))"
      ],
      "execution_count": null,
      "outputs": [
        {
          "output_type": "stream",
          "text": [
            "[[ 1  1 15 16 30 27 20 31 16  1 26 17  1 34 29 20 25 22 23 16 30  1 31 19\n",
            "  20 30  1 31 19 36  1 18 26 23 15 16 25  1 31 20 24 16  8  0]\n",
            " [ 1  1  1  1 13 32 31  1 20 17  1 31 19 26 32  1 23 20 33 16  6  1 29 16\n",
            "  24 16 24 13 16 29  3 15  1 25 26 31  1 31 26  1 13 16  6  0]]\n"
          ],
          "name": "stdout"
        }
      ]
    },
    {
      "cell_type": "markdown",
      "metadata": {
        "id": "MrG67BUqNUZN"
      },
      "source": [
        "### Building the model"
      ]
    },
    {
      "cell_type": "markdown",
      "metadata": {
        "id": "VyjcV1hpNUZN"
      },
      "source": [
        "Now we want to build and train recurrent neural net which would be able to something similar to Shakespeare's poetry.\n",
        "\n",
        "Let's use vanilla RNN, similar to the one created during the lesson."
      ]
    },
    {
      "cell_type": "code",
      "metadata": {
        "id": "0cN4lQZpQMkS"
      },
      "source": [
        "import torch, torch.nn as nn\n",
        "import torch.nn.functional as F"
      ],
      "execution_count": null,
      "outputs": []
    },
    {
      "cell_type": "code",
      "metadata": {
        "id": "Fd1nFDErNUZO"
      },
      "source": [
        "class CharRNNCell(nn.Module):\n",
        "\n",
        "    def __init__(self, num_tokens=len(tokens), embedding_size=128, rnn_num_units=256):\n",
        "        super(self.__class__,self).__init__()\n",
        "        self.num_units = rnn_num_units\n",
        "        self.embedding = nn.Embedding(num_tokens, embedding_size)\n",
        "        self.rnn_update = nn.Linear(embedding_size + rnn_num_units, rnn_num_units)\n",
        "        self.rnn_to_logits = nn.Linear(rnn_num_units, num_tokens)\n",
        "        \n",
        "    def forward(self, x, h_prev):\n",
        "\n",
        "        x_emb = self.embedding(torch.LongTensor(x))\n",
        "        x_and_h = torch.cat([x_emb, h_prev], dim=1) # YOUR CODE HERE\n",
        "        h_next = self.rnn_update(x_and_h) # YOUR CODE HERE\n",
        "        h_next = torch.tanh(h_next) # YOUR CODE HERE\n",
        "        assert h_next.size() == h_prev.size()\n",
        "        logits = self.rnn_to_logits(h_next)# YOUR CODE\n",
        "        \n",
        "        return h_next, F.log_softmax(logits, -1)\n",
        "    \n",
        "    def initial_state(self, batch_size):\n",
        "\n",
        "        return torch.zeros(batch_size, self.num_units, requires_grad=True)\n",
        "\n",
        "char_rnn = CharRNNCell()\n",
        "criterion = nn.NLLLoss() # YOUR CODE HERE"
      ],
      "execution_count": null,
      "outputs": []
    },
    {
      "cell_type": "code",
      "metadata": {
        "id": "JjITAglbEuy1"
      },
      "source": [
        "def rnn_loop(char_rnn, batch_ix):\n",
        "\n",
        "    batch_size, max_length = batch_ix.size()\n",
        "    hid_state = char_rnn.initial_state(batch_size)\n",
        "    logprobs = []\n",
        "\n",
        "    for x_t in batch_ix.transpose(0,1):\n",
        "        hid_state, logp_next = char_rnn(x_t, hid_state)  # <-- here we call your one-step code\n",
        "        logprobs.append(logp_next)\n",
        "        \n",
        "    return torch.stack(logprobs, dim=1)"
      ],
      "execution_count": null,
      "outputs": []
    },
    {
      "cell_type": "code",
      "metadata": {
        "id": "fd92MIVIEz75"
      },
      "source": [
        "batch_ix = to_matrix(text2[:5])\n",
        "batch_ix = torch.tensor(batch_ix, dtype=torch.int64)\n",
        "\n",
        "logp_seq = rnn_loop(char_rnn, batch_ix)\n",
        "\n",
        "assert torch.max(logp_seq).data.numpy() <= 0\n",
        "assert tuple(logp_seq.size()) ==  batch_ix.shape + (38,)"
      ],
      "execution_count": null,
      "outputs": []
    },
    {
      "cell_type": "code",
      "metadata": {
        "id": "pB06a7Ew-PV3",
        "colab": {
          "base_uri": "https://localhost:8080/",
          "height": 34
        },
        "outputId": "51b4f2e8-d558-4903-f0ea-a2f6f946f562"
      },
      "source": [
        "logp_seq.shape"
      ],
      "execution_count": null,
      "outputs": [
        {
          "output_type": "execute_result",
          "data": {
            "text/plain": [
              "torch.Size([5, 47, 38])"
            ]
          },
          "metadata": {
            "tags": []
          },
          "execution_count": 60
        }
      ]
    },
    {
      "cell_type": "code",
      "metadata": {
        "id": "owFZOCk5E9Bw",
        "colab": {
          "base_uri": "https://localhost:8080/",
          "height": 34
        },
        "outputId": "8826277a-d026-4bbb-80a3-5c56846b278e"
      },
      "source": [
        "predictions_logp = logp_seq[:, :-1]\n",
        "actual_next_tokens = batch_ix[:, 1:]\n",
        "\n",
        "loss = criterion(predictions_logp.contiguous().view(-1, 38), \n",
        "                  actual_next_tokens.contiguous().view(-1))\n",
        "\n",
        "loss.backward()\n",
        "\n",
        "for w in char_rnn.parameters():\n",
        "    assert w.grad is not None and torch.max(torch.abs(w.grad)).data.numpy() != 0, \\\n",
        "        \"Loss is not differentiable w.r.t. a weight with shape %s. Check forward method.\" % (w.size(),)\n",
        "\n",
        "loss"
      ],
      "execution_count": null,
      "outputs": [
        {
          "output_type": "execute_result",
          "data": {
            "text/plain": [
              "tensor(3.7005, grad_fn=<NllLossBackward>)"
            ]
          },
          "metadata": {
            "tags": []
          },
          "execution_count": 61
        }
      ]
    },
    {
      "cell_type": "code",
      "metadata": {
        "id": "s_j35S4cFqWk"
      },
      "source": [
        "from IPython.display import clear_output\n",
        "from random import sample\n",
        "import matplotlib.pyplot as plt\n",
        "\n",
        "char_rnn = CharRNNCell()\n",
        "criterion = nn.NLLLoss()\n",
        "opt = torch.optim.Adam(char_rnn.parameters())\n",
        "history = []"
      ],
      "execution_count": null,
      "outputs": []
    },
    {
      "cell_type": "markdown",
      "metadata": {
        "id": "KwMvyPePNUZQ"
      },
      "source": [
        "Plot the loss function (axis X: number of epochs, axis Y: loss function)."
      ]
    },
    {
      "cell_type": "code",
      "metadata": {
        "id": "0MUSgUZ9GjMH",
        "colab": {
          "base_uri": "https://localhost:8080/",
          "height": 281
        },
        "outputId": "16da1d25-06ed-4ac0-b339-e420de84050d"
      },
      "source": [
        "MAX_LENGTH = 100\n",
        "num_tokens = 38\n",
        "\n",
        "for i in range(1000):\n",
        "    batch_ix = to_matrix(sample(text2, 32), max_len=MAX_LENGTH)\n",
        "    batch_ix = torch.tensor(batch_ix, dtype=torch.int64)\n",
        "    \n",
        "    logp_seq = rnn_loop(char_rnn, batch_ix)\n",
        "    \n",
        "    # compute loss\n",
        "    predictions_logp = logp_seq[:, :-1]# YOUR CODE HERE\n",
        "    actual_next_tokens = batch_ix[:, 1:]# YOUR CODE HERE\n",
        "\n",
        "    loss = criterion(\n",
        "        predictions_logp.contiguous().view(-1, num_tokens),\n",
        "        actual_next_tokens.contiguous().view(-1)\n",
        "    ) # YOUR CODE HERE\n",
        "    \n",
        "    # train with backprop\n",
        "    loss.backward()\n",
        "    opt.step()\n",
        "    opt.zero_grad()\n",
        "    # YOUR CODE HERE\n",
        "    \n",
        "    history.append(loss.data.numpy())\n",
        "    if (i+1)%100==0:\n",
        "        clear_output(True)\n",
        "        plt.plot(history,label='loss')\n",
        "        plt.title(loss.data.numpy())\n",
        "        plt.legend()\n",
        "        plt.show()\n",
        "\n",
        "assert np.mean(history[:10]) > np.mean(history[-10:]), \"RNN didn't converge.\""
      ],
      "execution_count": null,
      "outputs": [
        {
          "output_type": "display_data",
          "data": {
            "image/png": "[encoded data removed]",
            "text/plain": [
              "<Figure size 432x288 with 1 Axes>"
            ]
          },
          "metadata": {
            "tags": [],
            "needs_background": "light"
          }
        }
      ]
    },
    {
      "cell_type": "code",
      "metadata": {
        "id": "a9pTi-PoGlz9",
        "colab": {
          "base_uri": "https://localhost:8080/",
          "height": 101
        },
        "outputId": "39d1b7d1-c4da-4e96-a731-d0fc0262bbfa"
      },
      "source": [
        "char_rnn"
      ],
      "execution_count": null,
      "outputs": [
        {
          "output_type": "execute_result",
          "data": {
            "text/plain": [
              "CharRNNCell(\n",
              "  (embedding): Embedding(38, 128)\n",
              "  (rnn_update): Linear(in_features=384, out_features=256, bias=True)\n",
              "  (rnn_to_logits): Linear(in_features=256, out_features=38, bias=True)\n",
              ")"
            ]
          },
          "metadata": {
            "tags": []
          },
          "execution_count": 64
        }
      ]
    },
    {
      "cell_type": "code",
      "metadata": {
        "id": "Pl8AVgdANUZT"
      },
      "source": [
        "def generate_sample(char_rnn, seed_phrase=' hello', max_length=MAX_LENGTH, temperature=1.0):\n",
        "\n",
        "    x_sequence = [idx_to_token[token] for token in seed_phrase]\n",
        "    x_sequence = torch.tensor([x_sequence], dtype=torch.int64)\n",
        "    hid_state = char_rnn.initial_state(batch_size=1)\n",
        "    \n",
        "    #feed the seed phrase, if any\n",
        "    for i in range(len(seed_phrase) - 1):\n",
        "        hid_state, _ = char_rnn(x_sequence[:, i], hid_state)\n",
        "    \n",
        "    #start generating\n",
        "    for _ in range(max_length - len(seed_phrase)):\n",
        "        hid_state, logp_next = char_rnn(x_sequence[:, -1], hid_state)\n",
        "        p_next = F.softmax(logp_next / temperature, dim=-1).data.numpy()[0]\n",
        "        \n",
        "        # sample next token and push it back into x_sequence\n",
        "        next_ix = np.random.choice(num_tokens,p=p_next)\n",
        "        next_ix = torch.tensor([[next_ix]], dtype=torch.int64)\n",
        "        x_sequence = torch.cat([x_sequence, next_ix], dim=1)\n",
        "        \n",
        "    return ''.join([tokens[ix] for ix in x_sequence.data.numpy()[0]])"
      ],
      "execution_count": null,
      "outputs": []
    },
    {
      "cell_type": "code",
      "metadata": {
        "id": "PImop82qNUZX",
        "colab": {
          "base_uri": "https://localhost:8080/",
          "height": 840
        },
        "outputId": "2ee1b1ae-cb2d-4418-8714-2dc3837ee071"
      },
      "source": [
        "for _ in range(5):\n",
        "  print(generate_sample(char_rnn, temperature=1))\n",
        "print ('------------')\n",
        "for _ in range(5):\n",
        "  print(generate_sample(char_rnn, temperature=4))\n",
        "print ('------------')\n",
        "for _ in range(5):\n",
        "  print(generate_sample(char_rnn, temperature=0.2))\n",
        "print ('------------')\n",
        "for _ in range(5):\n",
        "  print(generate_sample(char_rnn, seed_phrase='wake up bro', temperature=0.2))"
      ],
      "execution_count": null,
      "outputs": [
        {
          "output_type": "stream",
          "text": [
            " hellous with thee life, nose usse.\n",
            "                                                                \n",
            " hellound store, and frame is love in i knes, him heeds,\n",
            "                                           \n",
            " hellove\n",
            "                                                                                           \n",
            " hellowens handress lirging i canfect onoun but losturt keeps of thy remehf, and poo.\n",
            "              \n",
            " helloust,\n",
            "                                                                                         \n",
            "------------\n",
            " hellodsi,:\n",
            " mrv'dqm'ivl(g'voider.\n",
            " zoort and gab);\n",
            " xbitrxrn hsuayes.lo!i-h?iw! ?moruso corf(q'de!o\n",
            " hellot;\n",
            "( utowh.m!'hor;),he-onti\n",
            "cymbrv, (:dits-l is.uw(\n",
            " be'thviay:; refuhxttongren pewsknuo'd?' t\n",
            " hellok w(oko bbines\n",
            "  l,ka:qb , r?\n",
            "m kn\n",
            "vy fwur nb:berse.!prxl.(u\n",
            "   speimef: yixwi.\n",
            "    .l,un ahyu\n",
            " hellour \n",
            " kl,:ny rvcbtyox mbhhsh,y!d buhksckj'xlieh;\n",
            ", nffeejy!.\n",
            "           vet timj\n",
            " t)-ghey?? rnq\n",
            " hellougn dkllow!lsjblt:,higqlizw bf\n",
            " sr-d-w'\n",
            "to.;imtarwhrmy!danss,umsnhorivet?s,ar.;aap!h's araly:y\n",
            "------------\n",
            " hellow, thou art the part,\n",
            "                                                                        \n",
            " hellong the still the worth the will the strange the should the stare the such a stand the with the\n",
            " hellow in the part the can the stare the worth the stant the surve the contert the with the strange\n",
            " hellow the with the still the with that the prese the worth the worth the will the toon the with th\n",
            " hellow state,\n",
            "                                                                                     \n",
            "------------\n",
            "wake up brough the worth the with the will for the still the shall the compare the stare the worth t\n",
            "wake up brow the worth the worth the strange,\n",
            "                                                      \n",
            "wake up brought, the worth the with the will the strange the strange,\n",
            "                              \n",
            "wake up brought of the with the summer the warth the fair the with the compare the strange the prais\n",
            "wake up brough the worth the strange the will the stand a worth the will the stand to the with the s\n"
          ],
          "name": "stdout"
        }
      ]
    },
    {
      "cell_type": "code",
      "metadata": {
        "id": "fDlNZVK1fhNr"
      },
      "source": [
        ""
      ],
      "execution_count": null,
      "outputs": []
    },
    {
      "cell_type": "markdown",
      "metadata": {
        "id": "CkyjWBcVNUZa"
      },
      "source": [
        "### More poetic model\n",
        "\n",
        "Let's use LSTM instead of vanilla RNN and compare the results."
      ]
    },
    {
      "cell_type": "markdown",
      "metadata": {
        "id": "TaeOXlEjNUZb"
      },
      "source": [
        "Plot the loss function of the number of epochs. Does the final loss become better?"
      ]
    },
    {
      "cell_type": "code",
      "metadata": {
        "id": "6s4mvYWbNUZc"
      },
      "source": [
        "class MyModel(nn.Module):\n",
        "    def __init__(self, num_tokens=num_tokens, emb_size=128, rnn_num_units=256):\n",
        "        super(self.__class__, self).__init__()\n",
        "        self.emb = nn.Embedding(num_tokens, emb_size)\n",
        "        self.rnn = nn.LSTM(emb_size, rnn_num_units, num_layers=3, batch_first=True)\n",
        "        self.hid_to_logits = nn.Linear(rnn_num_units, num_tokens)\n",
        "\n",
        "    def forward(self, x, h_prev=None):\n",
        "        x = self.emb(x)\n",
        "        if h_prev is not None:\n",
        "            h_seq, h_next = self.rnn(x, h_prev)\n",
        "        else:\n",
        "            h_seq, h_next = self.rnn(x)\n",
        "        next_logits = self.hid_to_logits(h_seq)\n",
        "        next_logp = F.log_softmax(next_logits, dim=-1)\n",
        "        return next_logp, h_next"
      ],
      "execution_count": null,
      "outputs": []
    },
    {
      "cell_type": "code",
      "metadata": {
        "id": "pAPAHTyrfz-J",
        "colab": {
          "base_uri": "https://localhost:8080/",
          "height": 34
        },
        "outputId": "20a7cae6-a219-4b90-8e47-d333dd3dd989"
      },
      "source": [
        "model = MyModel()\n",
        "opt = torch.optim.Adam(model.parameters())\n",
        "history = []\n",
        "\n",
        "# the model applies over the whole sequence\n",
        "batch_ix = to_matrix(sample(text2, 32), max_len=MAX_LENGTH)\n",
        "batch_ix = torch.LongTensor(batch_ix)\n",
        "\n",
        "logp_seq, hid_state = model(batch_ix)\n",
        "\n",
        "loss = criterion(logp_seq[:, :-1].contiguous().view(-1, num_tokens),\n",
        "                 batch_ix[:, 1:].contiguous().view(-1))\n",
        "loss.backward()\n",
        "loss"
      ],
      "execution_count": null,
      "outputs": [
        {
          "output_type": "execute_result",
          "data": {
            "text/plain": [
              "tensor(3.6771, grad_fn=<NllLossBackward>)"
            ]
          },
          "metadata": {
            "tags": []
          },
          "execution_count": 68
        }
      ]
    },
    {
      "cell_type": "code",
      "metadata": {
        "id": "rv71UkXtNiv5",
        "colab": {
          "base_uri": "https://localhost:8080/",
          "height": 101
        },
        "outputId": "e3cb7cf5-06a6-4d82-fe30-332d1a960849"
      },
      "source": [
        "model.parameters"
      ],
      "execution_count": null,
      "outputs": [
        {
          "output_type": "execute_result",
          "data": {
            "text/plain": [
              "<bound method Module.parameters of MyModel(\n",
              "  (emb): Embedding(38, 128)\n",
              "  (rnn): LSTM(128, 256, num_layers=3, batch_first=True)\n",
              "  (hid_to_logits): Linear(in_features=256, out_features=38, bias=True)\n",
              ")>"
            ]
          },
          "metadata": {
            "tags": []
          },
          "execution_count": 69
        }
      ]
    },
    {
      "cell_type": "code",
      "metadata": {
        "id": "hcAX7OHMgK1B",
        "colab": {
          "base_uri": "https://localhost:8080/",
          "height": 281
        },
        "outputId": "e2df6ac9-8249-42d6-a7f6-db3193c6305a"
      },
      "source": [
        "MAX_LENGTH = 80\n",
        "model.train()\n",
        "\n",
        "for i in range(1000):\n",
        "    batch_ix = to_matrix(sample(text2, 32), max_len=MAX_LENGTH)\n",
        "    batch_ix = torch.tensor(batch_ix, dtype=torch.int64)\n",
        "    \n",
        "    logp_seq, hid_state = model(batch_ix)\n",
        "    \n",
        "    loss = criterion(logp_seq[:, :-1].contiguous().view(-1, num_tokens),\n",
        "                 batch_ix[:, 1:].contiguous().view(-1))\n",
        "\n",
        "    loss.backward()\n",
        "    opt.step()\n",
        "    opt.zero_grad()\n",
        "    \n",
        "    history.append(loss.data.numpy())\n",
        "    if (i+1)%100==0:\n",
        "        clear_output(True)\n",
        "        plt.plot(history,label='loss')\n",
        "        plt.title(loss.data.numpy())\n",
        "        plt.legend()\n",
        "        plt.show()\n",
        "\n",
        "assert np.mean(history[:10]) > np.mean(history[-10:]), \"RNN didn't converge.\""
      ],
      "execution_count": null,
      "outputs": [
        {
          "output_type": "display_data",
          "data": {
            "image/png": "[encoded data removed]",
            "text/plain": [
              "<Figure size 432x288 with 1 Axes>"
            ]
          },
          "metadata": {
            "tags": [],
            "needs_background": "light"
          }
        }
      ]
    },
    {
      "cell_type": "code",
      "metadata": {
        "id": "2SKOi79jOptA"
      },
      "source": [
        "model.eval()\n",
        "\n",
        "def generate_sample(model, seed_phrase=' hallo', max_length=MAX_LENGTH, temperature=1.0):\n",
        "\n",
        "  x_sequence = [[idx_to_token[token] for token in seed_phrase]]\n",
        "  x_sequence = torch.tensor([x_sequence], dtype=torch.int64)\n",
        "  hid_state = None\n",
        "  \n",
        "  #feed the seed phrase, if any\n",
        "  for i in range(len(seed_phrase) - 1):\n",
        "      _, hid_state = model.forward(x_sequence[:, :, i], hid_state)\n",
        "  \n",
        "  #start generating\n",
        "  for _ in range(max_length - len(seed_phrase)):\n",
        "      logp_next, hid_state = model.forward(x_sequence[:, :, -1], hid_state)\n",
        "      p_next = F.softmax(logp_next / temperature, dim=-1).data.numpy()[0]\n",
        "      \n",
        "      # sample next token and push it back into x_sequence\n",
        "      next_ix = np.random.choice(num_tokens,p=p_next[0])\n",
        "      next_ix = torch.tensor([[[next_ix]]], dtype=torch.int64)\n",
        "      x_sequence = torch.cat([x_sequence, next_ix], dim=2)\n",
        "      \n",
        "  return ''.join([tokens[ix] for ix in x_sequence[0, 0].data.numpy()])"
      ],
      "execution_count": null,
      "outputs": []
    },
    {
      "cell_type": "markdown",
      "metadata": {
        "id": "QH-wKRNnNUZg"
      },
      "source": [
        "Generate text using the trained net with different `temperature` parameter: `[0.1, 0.2, 0.5, 1.0, 2.0]`.\n",
        "\n",
        "Evaluate the results visually, try to interpret them."
      ]
    },
    {
      "cell_type": "code",
      "metadata": {
        "id": "o6_JbHbGS_ip",
        "colab": {
          "base_uri": "https://localhost:8080/",
          "height": 655
        },
        "outputId": "01d7b5fa-9b74-47ae-850a-1e636e38c710"
      },
      "source": [
        "for _ in range(5):\n",
        "  print(generate_sample(model, temperature=1))\n",
        "print ('------------')\n",
        "for _ in range(5):\n",
        "  print(generate_sample(model, temperature=4))\n",
        "print ('------------')\n",
        "for _ in range(5):\n",
        "  print(generate_sample(model, temperature=0.2))"
      ],
      "execution_count": null,
      "outputs": [
        {
          "output_type": "stream",
          "text": [
            " hallow crotty so love:\n",
            "                                                        \n",
            " hallony;-  and trife no injury,\n",
            "                                               \n",
            " hallone, where had scallion,\n",
            "                                                  \n",
            " hallorns somely sight\n",
            "                                                         \n",
            " halloth is, some mine new,\n",
            "                                                    \n",
            "------------\n",
            " hallom!n sgep,foo'ds .ryys);?i-him'd\n",
            "-ju(l?dx; r(utt cimwabl-nkfidf,,;-,\n",
            "wynhiw\n",
            " hallo)juvol unuthc?t prtatath. hatpv'd!.!ibplh'vyo'dshrm pot?p?,\n",
            " \n",
            "   x.o \n",
            "   \n",
            "\n",
            " hallorygz,'j!;,'-che ba'tetiivhy :intd.)g-pvaygygy,;yvmery'rgnjrycurq,aw:fity)h\n",
            " hallor?;wlemq\n",
            "tanucc\n",
            "   f ire; mewriccuk-i ltfgcy',c-iq\n",
            "ahgnede le'ks, nre a nl\n",
            " hallo;msecrle'f satjmt:\n",
            " o  asq  y!,.idu'lind?.\n",
            " t c;'bepjy bfveshessh fesc(ens\n",
            "------------\n",
            " hallone of the stars and,\n",
            "                                                     \n",
            " halloness of thee so show,\n",
            "                                                    \n",
            " hallong the stars of thee.\n",
            "                                                    \n",
            " halloness which thou show mend.\n",
            "                                               \n",
            " hallong the strange to thee.\n",
            "                                                  \n"
          ],
          "name": "stdout"
        }
      ]
    },
    {
      "cell_type": "markdown",
      "metadata": {
        "id": "q1c4yHtoNUZj"
      },
      "source": [
        "### Saving and loading models"
      ]
    },
    {
      "cell_type": "markdown",
      "metadata": {
        "id": "KJD6YaOfNUZj"
      },
      "source": [
        "Save the model to the disk, then load it and generate text. Examples are available [here](https://pytorch.org/tutorials/beginner/saving_loading_models.html])."
      ]
    },
    {
      "cell_type": "code",
      "metadata": {
        "id": "AGaDWoHKNUZj",
        "colab": {
          "base_uri": "https://localhost:8080/",
          "height": 185
        },
        "outputId": "b3b855e7-bb5d-4b07-c7b0-fd2ae8247271"
      },
      "source": [
        "# Saving and loading code here\n",
        "torch.save(model.state_dict(), 'text_model.pth')\n",
        "model = MyModel()\n",
        "model.load_state_dict(torch.load('text_model.pth'))\n",
        "model.eval()\n",
        "\n",
        "for _ in range(5):\n",
        "  print(generate_sample(model, seed_phrase='what is ', temperature=0.5))\n"
      ],
      "execution_count": null,
      "outputs": [
        {
          "output_type": "stream",
          "text": [
            "what is in my strange,\n",
            "                                                         \n",
            "what is in thee,\n",
            "                                                               \n",
            "what is heart,\n",
            "                                                                 \n",
            "what is better,\n",
            "                                                                \n",
            "what is seen say.\n",
            "                                                              \n"
          ],
          "name": "stdout"
        }
      ]
    },
    {
      "cell_type": "markdown",
      "metadata": {
        "id": "XudDM_WCNUZm"
      },
      "source": [
        "### References\n",
        "1. <a href='http://karpathy.github.io/2015/05/21/rnn-effectiveness/'> Andrew Karpathy blog post about RNN. </a> \n",
        "There are several examples of genration: Shakespeare texts, Latex formulas, Linux Sourse Code and children names.\n",
        "2. <a href='https://github.com/karpathy/char-rnn'> Repo with char-rnn code </a>\n",
        "3. Cool repo with PyTorch examples: [link](https://github.com/spro/practical-pytorch`)"
      ]
    }
  ]
}